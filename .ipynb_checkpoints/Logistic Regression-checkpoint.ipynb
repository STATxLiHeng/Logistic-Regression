{
 "cells": [
  {
   "cell_type": "markdown",
   "id": "15f4e55c",
   "metadata": {},
   "source": [
    "# Package"
   ]
  },
  {
   "cell_type": "code",
   "execution_count": 62,
   "id": "32a31aa8",
   "metadata": {},
   "outputs": [],
   "source": [
    "import numpy as np\n",
    "import pandas as pd\n",
    "from sklearn.linear_model import LogisticRegression\n",
    "from sklearn.model_selection import train_test_split"
   ]
  },
  {
   "cell_type": "code",
   "execution_count": null,
   "id": "6798c7b2",
   "metadata": {},
   "outputs": [],
   "source": [
    "# 假定討論年紀與存活率之間的關係"
   ]
  },
  {
   "cell_type": "markdown",
   "id": "fae12de6",
   "metadata": {},
   "source": [
    "# Create Data"
   ]
  },
  {
   "cell_type": "code",
   "execution_count": 58,
   "id": "c33c42f6",
   "metadata": {},
   "outputs": [],
   "source": [
    "# 創造100個1 和 0\n",
    "survival = np.concatenate(([1]*100,[0]*100))"
   ]
  },
  {
   "cell_type": "code",
   "execution_count": 59,
   "id": "a78769a8",
   "metadata": {},
   "outputs": [],
   "source": [
    "# 以 Gamma Distribution 模擬年齡資料\n",
    "old = np.random.gamma(50,1,100)\n",
    "young = np.random.gamma(10,1,100)"
   ]
  },
  {
   "cell_type": "code",
   "execution_count": 61,
   "id": "a0ed05bf",
   "metadata": {},
   "outputs": [],
   "source": [
    "# 合併數據\n",
    "age = np.concatenate((young.round(),old.round()))\n",
    "survival_data = pd.DataFrame({'Survival': survival,'Age': age})"
   ]
  },
  {
   "cell_type": "markdown",
   "id": "314ef53d",
   "metadata": {},
   "source": [
    "# 切割訓練集"
   ]
  },
  {
   "cell_type": "code",
   "execution_count": 64,
   "id": "b0f26045",
   "metadata": {},
   "outputs": [],
   "source": [
    "X_train, X_test, y_train, y_test= train_test_split(age, survival, test_size=.2, random_state=82, stratify= None)"
   ]
  },
  {
   "cell_type": "code",
   "execution_count": 96,
   "id": "d5944a4e",
   "metadata": {},
   "outputs": [],
   "source": [
    "# You should reshape your X to be a 2D array not 1D array. Fitting a model requires requires a 2D array.\n",
    "X_train = X_train.reshape(-1,1)\n",
    "X_test = X_test.reshape(-1,1)"
   ]
  },
  {
   "cell_type": "markdown",
   "id": "fdf2c717",
   "metadata": {},
   "source": [
    "# 模型訓練"
   ]
  },
  {
   "cell_type": "code",
   "execution_count": 97,
   "id": "d8a8e207",
   "metadata": {},
   "outputs": [
    {
     "data": {
      "text/plain": [
       "LogisticRegression()"
      ]
     },
     "execution_count": 97,
     "metadata": {},
     "output_type": "execute_result"
    }
   ],
   "source": [
    "model = LogisticRegression()\n",
    "model.fit(X_train, y_train)"
   ]
  },
  {
   "cell_type": "code",
   "execution_count": 98,
   "id": "d52675b5",
   "metadata": {},
   "outputs": [
    {
     "data": {
      "text/plain": [
       "array([14.9021751])"
      ]
     },
     "execution_count": 98,
     "metadata": {},
     "output_type": "execute_result"
    }
   ],
   "source": [
    "model.intercept_"
   ]
  },
  {
   "cell_type": "code",
   "execution_count": 99,
   "id": "aa9e3db5",
   "metadata": {},
   "outputs": [
    {
     "data": {
      "text/plain": [
       "array([[-0.55838689]])"
      ]
     },
     "execution_count": 99,
     "metadata": {},
     "output_type": "execute_result"
    }
   ],
   "source": [
    "model.coef_"
   ]
  },
  {
   "cell_type": "code",
   "execution_count": 100,
   "id": "c17d884a",
   "metadata": {},
   "outputs": [
    {
     "data": {
      "text/plain": [
       "array([[5.13551940e-05, 9.99948645e-01],\n",
       "       [9.99999584e-01, 4.16104125e-07],\n",
       "       [9.99993212e-01, 6.78767394e-06],\n",
       "       [9.99993212e-01, 6.78767394e-06],\n",
       "       [5.13551940e-05, 9.99948645e-01],\n",
       "       [9.99999998e-01, 1.56371919e-09],\n",
       "       [2.93825560e-05, 9.99970617e-01],\n",
       "       [2.74157813e-04, 9.99725842e-01],\n",
       "       [5.13551940e-05, 9.99948645e-01],\n",
       "       [9.99988136e-01, 1.18637807e-05],\n",
       "       [8.37075646e-04, 9.99162924e-01],\n",
       "       [9.99998729e-01, 1.27118962e-06],\n",
       "       [8.97577667e-05, 9.99910242e-01],\n",
       "       [8.97577667e-05, 9.99910242e-01],\n",
       "       [9.99988136e-01, 1.18637807e-05],\n",
       "       [9.99998729e-01, 1.27118962e-06],\n",
       "       [1.46216796e-03, 9.98537832e-01],\n",
       "       [9.99999762e-01, 2.38066208e-07],\n",
       "       [5.13551940e-05, 9.99948645e-01],\n",
       "       [5.13551940e-05, 9.99948645e-01],\n",
       "       [2.55285985e-03, 9.97447140e-01],\n",
       "       [9.96852956e-01, 3.14704390e-03],\n",
       "       [1.68108893e-05, 9.99983189e-01],\n",
       "       [9.98967680e-01, 1.03232026e-03],\n",
       "       [9.99963757e-01, 3.62427556e-05],\n",
       "       [2.74157813e-04, 9.99725842e-01],\n",
       "       [9.99999955e-01, 4.45845931e-08],\n",
       "       [9.99997778e-01, 2.22184761e-06],\n",
       "       [9.96852956e-01, 3.14704390e-03],\n",
       "       [8.97577667e-05, 9.99910242e-01],\n",
       "       [2.55285985e-03, 9.97447140e-01],\n",
       "       [9.99998729e-01, 1.27118962e-06],\n",
       "       [2.93825560e-05, 9.99970617e-01],\n",
       "       [9.99999762e-01, 2.38066208e-07],\n",
       "       [5.13551940e-05, 9.99948645e-01],\n",
       "       [7.75824109e-03, 9.92241759e-01],\n",
       "       [9.99409116e-01, 5.90883654e-04],\n",
       "       [9.99999922e-01, 7.79272117e-08],\n",
       "       [9.61810402e-06, 9.99990382e-01],\n",
       "       [8.97577667e-05, 9.99910242e-01]])"
      ]
     },
     "execution_count": 100,
     "metadata": {},
     "output_type": "execute_result"
    }
   ],
   "source": [
    "model.predict_proba(X_test)"
   ]
  },
  {
   "cell_type": "code",
   "execution_count": 101,
   "id": "a8105b94",
   "metadata": {},
   "outputs": [
    {
     "data": {
      "text/plain": [
       "1.0"
      ]
     },
     "execution_count": 101,
     "metadata": {},
     "output_type": "execute_result"
    }
   ],
   "source": [
    " model.score(X_test, y_test)"
   ]
  },
  {
   "cell_type": "code",
   "execution_count": null,
   "id": "8a010d4f",
   "metadata": {},
   "outputs": [],
   "source": []
  }
 ],
 "metadata": {
  "kernelspec": {
   "display_name": "Python 3 (ipykernel)",
   "language": "python",
   "name": "python3"
  },
  "language_info": {
   "codemirror_mode": {
    "name": "ipython",
    "version": 3
   },
   "file_extension": ".py",
   "mimetype": "text/x-python",
   "name": "python",
   "nbconvert_exporter": "python",
   "pygments_lexer": "ipython3",
   "version": "3.9.13"
  },
  "toc": {
   "base_numbering": 1,
   "nav_menu": {},
   "number_sections": true,
   "sideBar": true,
   "skip_h1_title": false,
   "title_cell": "Table of Contents",
   "title_sidebar": "Contents",
   "toc_cell": false,
   "toc_position": {},
   "toc_section_display": true,
   "toc_window_display": false
  }
 },
 "nbformat": 4,
 "nbformat_minor": 5
}
